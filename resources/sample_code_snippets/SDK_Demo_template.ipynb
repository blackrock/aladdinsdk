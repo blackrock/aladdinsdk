{
 "cells": [
  {
   "cell_type": "code",
   "execution_count": null,
   "metadata": {},
   "outputs": [],
   "source": [
    "!pip install aladdinsdk\n",
    "!pip install asdk-plugin-analytics\n",
    "!pip install asdk-plugin-compliance\n",
    "!pip install asdk-plugin-portfolio\n",
    "!pip list | grep sdk"
   ]
  },
  {
   "cell_type": "markdown",
   "metadata": {},
   "source": [
    "# Initial configuration setup"
   ]
  },
  {
   "cell_type": "markdown",
   "metadata": {},
   "source": [
    "### Setup a configuration file.\n",
    "\n",
    "- Open a terminal and run `aladdinsdk-cli`, and follow the steps to create a configuration file.\n",
    "- Per the final instruction in the CLI, set the ASDK_USER_CONFIG_FILE environment variable **before** importing aladdinsdk"
   ]
  },
  {
   "cell_type": "code",
   "execution_count": null,
   "metadata": {
    "tags": []
   },
   "outputs": [],
   "source": [
    "import os\n",
    "os.environ[\"ASDK_USER_CONFIG_FILE\"] = '<path to config file>'\n",
    "\n",
    "# Set environment variable prior to import, either in code / terminal\n",
    "import aladdinsdk"
   ]
  },
  {
   "cell_type": "markdown",
   "metadata": {},
   "source": [
    "Utility to validate configuration is picked correctly:"
   ]
  },
  {
   "cell_type": "code",
   "execution_count": null,
   "metadata": {},
   "outputs": [],
   "source": [
    "from aladdinsdk.config import print_current_user_config\n",
    "print_current_user_config()"
   ]
  },
  {
   "cell_type": "code",
   "execution_count": null,
   "metadata": {},
   "outputs": [],
   "source": [
    "# Setup formatting functions for later use\n",
    "\n",
    "def color_text(c, t):\n",
    "    ct = f\"\\033[{c}{t}\\033[00m\"\n",
    "    return ct\n",
    "GREEN = '32m'\n",
    "\n",
    "def bold_text(t):\n",
    "    bt = f\"\\033[1m{t}\\033[0m\"\n",
    "    return bt"
   ]
  },
  {
   "cell_type": "markdown",
   "metadata": {},
   "source": [
    "------------\n",
    "\n",
    "# API client"
   ]
  },
  {
   "cell_type": "markdown",
   "metadata": {},
   "source": [
    "List currently supported APIs:"
   ]
  },
  {
   "cell_type": "code",
   "execution_count": null,
   "metadata": {
    "tags": []
   },
   "outputs": [],
   "source": [
    "from aladdinsdk.api import get_api_names\n",
    "\n",
    "for api in get_api_names():\n",
    "    print(\"--> \" + api)"
   ]
  },
  {
   "cell_type": "markdown",
   "metadata": {},
   "source": [
    "## Create an instance of API client"
   ]
  },
  {
   "cell_type": "markdown",
   "metadata": {},
   "source": [
    "Example workflow: Bulk Retrieve and Expand on Compliance Rule Assignments for Portfolios in Portfolio Groups.\n",
    "\n"
   ]
  },
  {
   "cell_type": "code",
   "execution_count": null,
   "metadata": {},
   "outputs": [],
   "source": [
    "from aladdinsdk.api import AladdinAPI\n",
    "\n",
    "api_instance_port_group = AladdinAPI(\"PortfolioGroupAPI\")\n",
    "api_instance_compl_assignments = AladdinAPI(\"ComplianceRuleAssignmentAPI\")"
   ]
  },
  {
   "cell_type": "markdown",
   "metadata": {},
   "source": [
    "API introspection:"
   ]
  },
  {
   "cell_type": "code",
   "execution_count": null,
   "metadata": {
    "tags": []
   },
   "outputs": [],
   "source": [
    "api_instance_compl_assignments.get_api_endpoint_path_tuples()"
   ]
  },
  {
   "cell_type": "markdown",
   "metadata": {},
   "source": [
    "#### List portfolios under a given Portfolio Group\n",
    "\n",
    "_Sample GET call_"
   ]
  },
  {
   "cell_type": "code",
   "execution_count": null,
   "metadata": {},
   "outputs": [],
   "source": [
    "port_group_members = api_instance_port_group.get(\"/portfolioGroups/{id}/members\", id=\"TEST-FUNDS\")\n",
    "\n",
    "port_group_members"
   ]
  },
  {
   "cell_type": "markdown",
   "metadata": {},
   "source": [
    "#### Understand Compliance Rule Assignments for given Portfolio Group member\n",
    "\n",
    "_Sample POST request_"
   ]
  },
  {
   "cell_type": "code",
   "execution_count": null,
   "metadata": {},
   "outputs": [],
   "source": [
    "for node in port_group_members.nodes:\n",
    "    body = { \n",
    "        \"query\":{\n",
    "            \"portfolioName\": node.portfolio_ticker\n",
    "        }\n",
    "    }\n",
    "    resp = api_instance_compl_assignments.post(\"/complianceRuleAssignments:filter\", body)\n",
    "    \n",
    "    if len(resp.compliance_rule_assignments) == 0:\n",
    "        print(f'\\tNo compliance rules for portfolio \"{node.portfolio_ticker}\"')\n",
    "    else:\n",
    "        print(color_text(GREEN,bold_text(f'Portfolio \"{node.portfolio_ticker}\" has {len(resp.compliance_rule_assignments)} compliance rules')))"
   ]
  },
  {
   "cell_type": "markdown",
   "metadata": {},
   "source": [
    "### Simplified API call example"
   ]
  },
  {
   "cell_type": "code",
   "execution_count": null,
   "metadata": {},
   "outputs": [],
   "source": [
    "esg_data_api_instance = AladdinAPI(\"EsgDataAPI\")\n",
    "\n",
    "esg_data_response = esg_data_api_instance.get('/metadata:retrieve', provider_id=\"MSCI\")\n",
    "\n",
    "print(f\"id: {esg_data_response.provider_id}, category: {esg_data_response.provider_category}, metadata length: {len(esg_data_response.esg_metadata)}\")"
   ]
  },
  {
   "cell_type": "markdown",
   "metadata": {},
   "source": [
    "----- \n",
    "\n",
    "# ADC Connectivity\n"
   ]
  },
  {
   "cell_type": "code",
   "execution_count": null,
   "metadata": {
    "editable": true,
    "slideshow": {
     "slide_type": ""
    },
    "tags": []
   },
   "outputs": [],
   "source": [
    "import aladdinsdk\n",
    "from aladdinsdk.adc.client import ADCClient\n",
    "\n",
    "adc_client = ADCClient()\n",
    "\n",
    "df = adc_client.query_sql('SELECT * FROM CASH_ENTRY_V2 LIMIT 10')\n",
    "df"
   ]
  },
  {
   "cell_type": "markdown",
   "metadata": {},
   "source": [
    "**Note:**\n",
    "- Configuration files are optional, each config can be overriden in-line\n",
    "- Environment variables take precedence, and may be used to set unmodifiable configurations"
   ]
  },
  {
   "cell_type": "markdown",
   "metadata": {},
   "source": [
    "-----\n",
    "\n",
    "# Common Dev Utilities"
   ]
  },
  {
   "cell_type": "markdown",
   "metadata": {},
   "source": [
    "## Data transformation - JSON to dataframe"
   ]
  },
  {
   "cell_type": "code",
   "execution_count": null,
   "metadata": {},
   "outputs": [],
   "source": [
    "from aladdinsdk.api import AladdinAPI\n",
    "train_journey_api_instance = AladdinAPI(\"TrainJourneyAPI\")\n",
    "req_body_json = { \"query\": { \"departingStationId\": \"TS_1441\" } }\n",
    "train_journey_response = train_journey_api_instance.post('/trainJourneys:filter', req_body_json)"
   ]
  },
  {
   "cell_type": "code",
   "execution_count": null,
   "metadata": {},
   "outputs": [],
   "source": [
    "train_journey_response.json()"
   ]
  },
  {
   "cell_type": "code",
   "execution_count": null,
   "metadata": {
    "tags": []
   },
   "outputs": [],
   "source": [
    "from aladdinsdk.common.datatransformation import json_to_pandas\n",
    "\n",
    "json_to_pandas.convert(train_journey_response.json(), \"train_journeys.[*]\")"
   ]
  },
  {
   "cell_type": "markdown",
   "metadata": {},
   "source": [
    "## Batch Processing"
   ]
  },
  {
   "cell_type": "code",
   "execution_count": null,
   "metadata": {},
   "outputs": [],
   "source": [
    "import aladdinsdk\n",
    "from aladdinsdk.common.batch.action import SDKActionBuffer, SDKAction\n",
    "from aladdinsdk.api.client import AladdinAPI\n",
    "\n",
    "action_buffer = SDKActionBuffer()\n",
    "\n",
    "api_instance_train_journey = AladdinAPI(\"TrainJourneyAPI\")\n",
    "req_body_json = { \"query\": { \"departingStationId\": \"TS_1441\" } }\n",
    "\n",
    "api_post_action = SDKAction(api_instance_train_journey.post, \"/trainJourneys:filter\", req_body_json)\n",
    "\n",
    "api_get_action = SDKAction(api_instance_train_journey.get, '/trainJourneys/{id}', id='TJ_4')\n",
    "\n",
    "action_buffer.append_action(api_post_action)\n",
    "action_buffer.append_action(api_get_action)\n",
    "\n",
    "# action_buffer.run_sequential()\n",
    "action_buffer.run_parallel()\n",
    "\n",
    "response_map = action_buffer.get_response_map()\n",
    "for action_uid in response_map:\n",
    "    res = response_map[action_uid]\n",
    "    print(f\"result for action {action_uid}: {type(res)}\")"
   ]
  },
  {
   "cell_type": "code",
   "execution_count": null,
   "metadata": {},
   "outputs": [],
   "source": [
    "# Batch Processing example with print statements to understand the flow\n",
    "\n",
    "from aladdinsdk.common.batch.action import SDKActionBuffer, SDKAction\n",
    "import time\n",
    "\n",
    "def func1(num, sleep_time):\n",
    "    from datetime import datetime\n",
    "    starttime = datetime.now()\n",
    "    print(f\"start {num}-{sleep_time}\")\n",
    "    time.sleep(sleep_time)\n",
    "    endtime = datetime.now()\n",
    "    print(f\"{endtime - starttime} end {num}-{sleep_time}\")\n",
    "    return num\n",
    "\n",
    "# Action buffer setup\n",
    "action_buffer = SDKActionBuffer()\n",
    "action_buffer.append_action(SDKAction(func1, 1, 2))\n",
    "action_buffer.append_action(SDKAction(func1, 2, 3))\n",
    "action_buffer.append_action(SDKAction(func1, 3, 8))\n",
    "action_buffer.append_action(SDKAction(func1, 4, 8))\n",
    "action_buffer.append_action(SDKAction(func1, 5, 8))\n",
    "action_buffer.append_action(SDKAction(func1, 6, 8))\n",
    "action_buffer.append_action(SDKAction(func1, 7, 8))\n",
    "action_buffer.append_action(SDKAction(func1, 8, 10))\n",
    "\n",
    "# action_buffer.run_sequential()  # optional arg: interval: to pause between actions\n",
    "action_buffer.run_parallel()  # optional arg: max_workers to limit worker threads\n",
    "\n",
    "# for action in action_buffer.actions:\n",
    "#     print(f\"result for action {action.uid} result {action.result} error {action.error}\")\n",
    "for result in action_buffer.get_response_map().values():\n",
    "    print(f\"result for action {result}\")\n",
    "\n"
   ]
  },
  {
   "cell_type": "markdown",
   "metadata": {},
   "source": [
    "### Other common utilities:\n",
    "- Batch Processing\n",
    "- File exports\n",
    "- Error handling\n",
    "- Retry mechanism\n",
    "- E-mail notifications\n",
    "- Configuration management\n",
    "\n",
    "Foundational structure and initial implementations done so far. Additional enhancements are in the pipeline.\n",
    "\n",
    "Also, inviting all developers to contribute more generic/business-agnostic features to the core SDK via our open source project!"
   ]
  },
  {
   "cell_type": "markdown",
   "metadata": {},
   "source": [
    "---------------\n",
    "\n",
    "# Business Abstractions\n",
    "\n",
    "- API owners / Domain experts can build meaningful business abstractions using these generic utilities.\n",
    "- The intention is to enable service providers control the user experience at the edge."
   ]
  },
  {
   "cell_type": "code",
   "execution_count": null,
   "metadata": {},
   "outputs": [],
   "source": [
    "from aladdinsdk.api import AladdinAPI\n",
    "from aladdinsdk.common.datatransformation import json_to_pandas\n",
    "\n",
    "def train_journey_summary(relevant_input_param: str):\n",
    "    \"\"\"\n",
    "    - Construct request body\n",
    "    - Perform validations\n",
    "    - Invoke API endpoint\n",
    "    - Validate response\n",
    "    - Handle errors\n",
    "    - Transform response\n",
    "    \"\"\"\n",
    "    api_instance_train_journey = AladdinAPI(\"TrainJourneyAPI\")\n",
    "\n",
    "    req_body_json = {\n",
    "        \"query\": {\n",
    "            \"departingStationId\": relevant_input_param\n",
    "        }\n",
    "    }\n",
    "\n",
    "    response = api_instance_train_journey.call_api(\"train_journey_api_filter_train_journeys\", req_body_json)\n",
    "\n",
    "    tf_df = json_to_pandas.convert(response.json(), \"train_journeys.[*]\")\n",
    "\n",
    "    tf_df = tf_df[[\n",
    "        'train_journeys.train_id',\n",
    "        'train_journeys.journey_date',\n",
    "        'train_journeys.journey_time',\n",
    "        'train_journeys.short_code'\n",
    "    ]]\n",
    "    return tf_df"
   ]
  },
  {
   "cell_type": "markdown",
   "metadata": {},
   "source": [
    "## Simplified end user experience"
   ]
  },
  {
   "cell_type": "code",
   "execution_count": null,
   "metadata": {
    "tags": []
   },
   "outputs": [],
   "source": [
    "train_journey_summary('TS_1441')"
   ]
  },
  {
   "cell_type": "code",
   "execution_count": null,
   "metadata": {
    "tags": []
   },
   "outputs": [],
   "source": [
    "train_journey_summary('TS_786')"
   ]
  },
  {
   "cell_type": "markdown",
   "metadata": {},
   "source": [
    "## DomainSDK Error Handling Mechanism\n",
    "\n",
    "AladdinSDK simplifies error handling internally by using a decorator (asdk_exception_handler) that intercepts raised exceptions and maps them to specific handlers. This decorator and handler framework is made available to AladdinSDK users and DomainSDK developers.\n",
    "\n",
    "To utilize this capability:\n",
    "- Implement an exception handler class by implementing AbstractAsdkExceptionHandler, and configure the newly created enum\n",
    "- Provide this class definition to the core AladdinSDK by invoking register_handler_class e.g.:\n",
    "  - e.g.:\n",
    "    ```py\n",
    "    from aladdinsdk.common.error import handler\n",
    "    handler.register_handler_class(DomainExceptionHandler)\n",
    "    ```\n",
    "- The decorator asdk_exception_handler will now map any matching exceptions to the registered handlers and invoke the handle_error method.\n"
   ]
  },
  {
   "cell_type": "markdown",
   "metadata": {},
   "source": [
    "------------\n",
    "\n",
    "### References:\n",
    "- Engineering blog - https://engineering.blackrock.com/open-sourcing-the-aladdinsdk-empower-python-developers-with-a-quantitative-edge-7f63376061e6\n",
    "- Open source project - https://github.com/blackrock/aladdinsdk\n",
    "    - https://pypi.org/project/aladdinsdk/\n",
    "- Internal getting started guide - https://webster.bfm.com/apps/studio/knowledge-center/get-started-with-aladdinsdk-blk"
   ]
  }
 ],
 "metadata": {
  "kernelspec": {
   "display_name": "Python 3 (ipykernel)",
   "language": "python",
   "name": "python3"
  },
  "language_info": {
   "codemirror_mode": {
    "name": "ipython",
    "version": 3
   },
   "file_extension": ".py",
   "mimetype": "text/x-python",
   "name": "python",
   "nbconvert_exporter": "python",
   "pygments_lexer": "ipython3",
   "version": "3.9.18"
  }
 },
 "nbformat": 4,
 "nbformat_minor": 4
}
