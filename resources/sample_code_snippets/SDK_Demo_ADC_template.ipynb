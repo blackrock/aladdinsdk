{
 "cells": [
  {
   "cell_type": "code",
   "execution_count": null,
   "metadata": {},
   "outputs": [],
   "source": [
    "!pip install aladdinsdk\n",
    "!pip list | grep sdk"
   ]
  },
  {
   "cell_type": "markdown",
   "metadata": {},
   "source": [
    "# Initial configuration setup"
   ]
  },
  {
   "cell_type": "markdown",
   "metadata": {},
   "source": [
    "### Setup a configuration file.\n",
    "\n",
    "- Open a terminal and run `aladdinsdk-cli`, and follow the steps to create a configuration file.\n",
    "- Per the final instruction in the CLI, set the ASDK_USER_CONFIG_FILE environment variable **before** importing aladdinsdk"
   ]
  },
  {
   "cell_type": "code",
   "execution_count": null,
   "metadata": {
    "tags": []
   },
   "outputs": [],
   "source": [
    "import os\n",
    "os.environ[\"ASDK_USER_CONFIG_FILE\"] = '<path to config file>'\n",
    "\n",
    "# Set environment variable prior to import, either in code / terminal\n",
    "import aladdinsdk"
   ]
  },
  {
   "cell_type": "markdown",
   "metadata": {},
   "source": [
    "Utility to validate configuration is picked correctly:"
   ]
  },
  {
   "cell_type": "code",
   "execution_count": null,
   "metadata": {},
   "outputs": [],
   "source": [
    "from aladdinsdk.config import print_current_user_config\n",
    "print_current_user_config()"
   ]
  },
  {
   "cell_type": "markdown",
   "metadata": {},
   "source": [
    "----- \n",
    "\n",
    "# ADC Connectivity\n"
   ]
  },
  {
   "cell_type": "code",
   "execution_count": null,
   "metadata": {
    "editable": true,
    "slideshow": {
     "slide_type": ""
    },
    "tags": []
   },
   "outputs": [],
   "source": [
    "import aladdinsdk\n",
    "from aladdinsdk.adc.client import ADCClient\n",
    "\n",
    "adc_client = ADCClient()\n",
    "\n",
    "df = adc_client.query_sql('SELECT * FROM CASH_ENTRY_V2 LIMIT 10')\n",
    "df"
   ]
  },
  {
   "cell_type": "markdown",
   "metadata": {},
   "source": [
    "**Note:**\n",
    "- Configuration files are optional, each config can be overriden in-line\n",
    "- Environment variables take precedence, and may be used to set unmodifiable configurations"
   ]
  },
  {
   "cell_type": "markdown",
   "metadata": {},
   "source": [
    "-----\n",
    "\n",
    "# Common Dev Utilities"
   ]
  },
  {
   "cell_type": "markdown",
   "metadata": {},
   "source": [
    "## Batch Processing"
   ]
  },
  {
   "cell_type": "code",
   "execution_count": null,
   "metadata": {},
   "outputs": [],
   "source": [
    "import aladdinsdk\n",
    "from aladdinsdk.common.batch.action import SDKActionBuffer, SDKAction\n",
    "from aladdinsdk.api.client import AladdinAPI\n",
    "\n",
    "action_buffer = SDKActionBuffer()\n",
    "\n",
    "adc_client = ADCClient()\n",
    "adc_query_action = SDKAction(adc_client.query_sql, 'SELECT * FROM CASH_ENTRY_V2 LIMIT 10')\n",
    "action_buffer.append_action(adc_query_action)\n",
    "\n",
    "adc_query_action_2 = SDKAction(adc_client.query_sql, 'SELECT * FROM CASH_ENTRY_V2 LIMIT 100')\n",
    "action_buffer.append_action(adc_query_action_2)\n",
    "\n",
    "\n",
    "# action_buffer.run_sequential()\n",
    "action_buffer.run_parallel()\n",
    "\n",
    "response_map = action_buffer.get_response_map()\n",
    "for action_uid in response_map:\n",
    "    res = response_map[action_uid]\n",
    "    print(f\"result for action {action_uid}: {type(res)}\")"
   ]
  },
  {
   "cell_type": "code",
   "execution_count": null,
   "metadata": {},
   "outputs": [],
   "source": [
    "# Batch Processing example with print statements to understand the flow\n",
    "\n",
    "from aladdinsdk.common.batch.action import SDKActionBuffer, SDKAction\n",
    "import time\n",
    "\n",
    "def func1(num, sleep_time):\n",
    "    from datetime import datetime\n",
    "    starttime = datetime.now()\n",
    "    print(f\"start {num}-{sleep_time}\")\n",
    "    time.sleep(sleep_time)\n",
    "    endtime = datetime.now()\n",
    "    print(f\"{endtime - starttime} end {num}-{sleep_time}\")\n",
    "    return num\n",
    "\n",
    "# Action buffer setup\n",
    "action_buffer = SDKActionBuffer()\n",
    "action_buffer.append_action(SDKAction(func1, 1, 2))\n",
    "action_buffer.append_action(SDKAction(func1, 2, 3))\n",
    "action_buffer.append_action(SDKAction(func1, 3, 8))\n",
    "action_buffer.append_action(SDKAction(func1, 4, 8))\n",
    "action_buffer.append_action(SDKAction(func1, 5, 8))\n",
    "action_buffer.append_action(SDKAction(func1, 6, 8))\n",
    "action_buffer.append_action(SDKAction(func1, 7, 8))\n",
    "action_buffer.append_action(SDKAction(func1, 8, 10))\n",
    "\n",
    "# action_buffer.run_sequential()  # optional arg: interval: to pause between actions\n",
    "action_buffer.run_parallel()  # optional arg: max_workers to limit worker threads\n",
    "\n",
    "# for action in action_buffer.actions:\n",
    "#     print(f\"result for action {action.uid} result {action.result} error {action.error}\")\n",
    "for result in action_buffer.get_response_map().values():\n",
    "    print(f\"result for action {result}\")\n",
    "\n"
   ]
  },
  {
   "cell_type": "markdown",
   "metadata": {},
   "source": [
    "------------\n",
    "\n",
    "### References:\n",
    "- Engineering blog - https://engineering.blackrock.com/open-sourcing-the-aladdinsdk-empower-python-developers-with-a-quantitative-edge-7f63376061e6\n",
    "- Open source project - https://github.com/blackrock/aladdinsdk\n",
    "    - https://pypi.org/project/aladdinsdk/\n",
    "- Internal getting started guide - https://webster.bfm.com/apps/studio/knowledge-center/get-started-with-aladdinsdk-blk"
   ]
  },
  {
   "cell_type": "code",
   "execution_count": null,
   "outputs": [],
   "source": [],
   "metadata": {
    "collapsed": false
   }
  }
 ],
 "metadata": {
  "kernelspec": {
   "display_name": "Python 3 (ipykernel)",
   "language": "python",
   "name": "python3"
  },
  "language_info": {
   "codemirror_mode": {
    "name": "ipython",
    "version": 3
   },
   "file_extension": ".py",
   "mimetype": "text/x-python",
   "name": "python",
   "nbconvert_exporter": "python",
   "pygments_lexer": "ipython3",
   "version": "3.9.18"
  }
 },
 "nbformat": 4,
 "nbformat_minor": 4
}
